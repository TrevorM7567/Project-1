{
 "cells": [
  {
   "cell_type": "markdown",
   "id": "238dd686",
   "metadata": {},
   "source": [
    "### This program only allows for one game"
   ]
  },
  {
   "cell_type": "code",
   "execution_count": 1,
   "id": "64dc0495",
   "metadata": {},
   "outputs": [
    {
     "name": "stdout",
     "output_type": "stream",
     "text": [
      "Enter a choice (rock, paper, scissors): rock\n",
      "\n",
      "You chose rock, computer chose paper.\n",
      "\n",
      "Paper covers rock! You lose.\n"
     ]
    }
   ],
   "source": [
    "import random\n",
    "\n",
    "user_action = input(\"Enter a choice (rock, paper, scissors): \")\n",
    "possible_actions = [\"rock\", \"paper\", \"scissors\"]\n",
    "computer_action = random.choice(possible_actions)\n",
    "print(f\"\\nYou chose {user_action}, computer chose {computer_action}.\\n\")\n",
    "\n",
    "if user_action == computer_action:\n",
    "    print(f\"Both players selected {user_action}. It's a tie!\")\n",
    "elif user_action == \"rock\":\n",
    "    if computer_action == \"scissors\":\n",
    "        print(\"Rock smashes scissors! You win!\")\n",
    "    else:\n",
    "        print(\"Paper covers rock! You lose.\")\n",
    "elif user_action == \"paper\":\n",
    "    if computer_action == \"rock\":\n",
    "        print(\"Paper covers rock! You win!\")\n",
    "    else:\n",
    "        print(\"Scissors cuts paper! You lose.\")\n",
    "elif user_action == \"scissors\":\n",
    "    if computer_action == \"paper\":\n",
    "        print(\"Scissors cuts paper! You win!\")\n",
    "    else:\n",
    "        print(\"Rock smashes scissors! You lose.\")"
   ]
  },
  {
   "cell_type": "markdown",
   "id": "9e039ea1",
   "metadata": {},
   "source": [
    "### This program allows you to play multiple games"
   ]
  },
  {
   "cell_type": "code",
   "execution_count": 2,
   "id": "0e5d95e4",
   "metadata": {},
   "outputs": [
    {
     "name": "stdout",
     "output_type": "stream",
     "text": [
      "Enter a choice (rock, paper, scissors): rock\n",
      "\n",
      "You chose rock, computer chose paper.\n",
      "\n",
      "Paper covers rock! You lose.\n",
      "Play again? (yes/no): yes\n",
      "Enter a choice (rock, paper, scissors): paper\n",
      "\n",
      "You chose paper, computer chose rock.\n",
      "\n",
      "Paper covers rock! You win!\n",
      "Play again? (yes/no): no\n"
     ]
    }
   ],
   "source": [
    "import random   #import for the program to be able to work\n",
    "\n",
    "while True:     #use a while loop to start the program\n",
    "    user_action = input(\"Enter a choice (rock, paper, scissors): \")\n",
    "    possible_actions = [\"rock\", \"paper\", \"scissors\"]\n",
    "    computer_action = random.choice(possible_actions)\n",
    "    print(f\"\\nYou chose {user_action}, computer chose {computer_action}.\\n\")    \n",
    "    #The various conditions that make the program run\n",
    "\n",
    "    if user_action == computer_action:\n",
    "        print(f\"Both players selected {user_action}. It's a tie!\")\n",
    "    elif user_action == \"rock\":\n",
    "        if computer_action == \"scissors\":\n",
    "            print(\"Rock smashes scissors! You win!\")\n",
    "        else:\n",
    "            print(\"Paper covers rock! You lose.\")\n",
    "    elif user_action == \"paper\":\n",
    "        if computer_action == \"rock\":\n",
    "            print(\"Paper covers rock! You win!\")\n",
    "        else:\n",
    "            print(\"Scissors cuts paper! You lose.\")\n",
    "    elif user_action == \"scissors\":\n",
    "        if computer_action == \"paper\":\n",
    "            print(\"Scissors cuts paper! You win!\")\n",
    "        else:\n",
    "            print(\"Rock smashes scissors! You lose.\")\n",
    "                #if, elif, and else statements tell the program what to do and what results to give\n",
    "    play_again = input(\"Play again? (yes/no): \")\n",
    "    if play_again.lower() != \"yes\":\n",
    "        break\n",
    "            #Tells the program to go again"
   ]
  },
  {
   "cell_type": "code",
   "execution_count": null,
   "id": "b547d7d7",
   "metadata": {},
   "outputs": [],
   "source": []
  }
 ],
 "metadata": {
  "kernelspec": {
   "display_name": "Python 3",
   "language": "python",
   "name": "python3"
  },
  "language_info": {
   "codemirror_mode": {
    "name": "ipython",
    "version": 3
   },
   "file_extension": ".py",
   "mimetype": "text/x-python",
   "name": "python",
   "nbconvert_exporter": "python",
   "pygments_lexer": "ipython3",
   "version": "3.8.8"
  }
 },
 "nbformat": 4,
 "nbformat_minor": 5
}
